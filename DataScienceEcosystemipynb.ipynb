{
 "cells": [
  {
   "cell_type": "markdown",
   "id": "f2be49d4-12d4-41ac-926f-43263d65b2c3",
   "metadata": {
    "tags": []
   },
   "source": [
    "<h1> Data Science Tools and Ecosystem"
   ]
  },
  {
   "cell_type": "markdown",
   "id": "2c56746f-631a-4875-a4d3-b5619771c508",
   "metadata": {},
   "source": [
    "In this notebook, Data Science Tools and Ecosystem are summarized\n",
    "1. Python\n",
    "2. R\n",
    "3. Java\n",
    "\n"
   ]
  },
  {
   "cell_type": "markdown",
   "id": "f3df928f-6cd0-4569-be0c-d5647adbb133",
   "metadata": {},
   "source": [
    "__Objectives:__\n",
    "\n",
    "- List popular languages for data science\n",
    "- Commonly used libraries for data science\n",
    "- 3 IDE for data science free\n",
    "    "
   ]
  },
  {
   "cell_type": "code",
   "execution_count": null,
   "id": "a05ccc23-7d20-4b4d-8762-afb34ac6ec5d",
   "metadata": {},
   "outputs": [],
   "source": [
    "Some of the commonly used libraries used by Data Scientists include:\n",
    "- Numpy\n",
    "- Pandas\n",
    "- Matplotlib"
   ]
  },
  {
   "cell_type": "markdown",
   "id": "149edf04-d1dc-4e8b-b288-c185487e9813",
   "metadata": {
    "tags": []
   },
   "source": [
    "Some of the commonly used libraries used by Data Scientists include:\n",
    "- Numpy\n",
    "- Pandas\n",
    "- Matplotlib"
   ]
  },
  {
   "cell_type": "markdown",
   "id": "66371487-252d-4d23-a7e4-0fe59ed7f290",
   "metadata": {},
   "source": [
    "\n",
    "|Data Science Tools|\n",
    "|---|\n",
    "|jupyter notebooks|\n",
    "|R Studio|\n",
    "|Visual studio code|\n"
   ]
  },
  {
   "cell_type": "markdown",
   "id": "84cd5db5-f0d0-416e-858a-e4e5f7eff0e7",
   "metadata": {},
   "source": [
    "<h3>Below are a few examples of evaluating arithmetic expressions in Python"
   ]
  },
  {
   "cell_type": "code",
   "execution_count": 7,
   "id": "f6b177a1-b77c-4405-9788-b82da145e66e",
   "metadata": {
    "tags": []
   },
   "outputs": [
    {
     "data": {
      "text/plain": [
       "17"
      ]
     },
     "execution_count": 7,
     "metadata": {},
     "output_type": "execute_result"
    }
   ],
   "source": [
    "#This is a simple arithmetic expression to multiply then add integers\n",
    "(3*4)+5 "
   ]
  },
  {
   "cell_type": "code",
   "execution_count": null,
   "id": "62b14e67-a167-46e7-b8cd-9498ae0f67a1",
   "metadata": {
    "tags": []
   },
   "outputs": [],
   "source": [
    "#This will convert 200 minutes to hours by diving by 60\n",
    "200/60"
   ]
  },
  {
   "cell_type": "markdown",
   "id": "57520c45-7c68-4e50-bf10-a2923c468dc6",
   "metadata": {},
   "source": [
    "# Author\n",
    "Bastian K."
   ]
  },
  {
   "cell_type": "code",
   "execution_count": null,
   "id": "31435463-0788-40a9-a5df-7deb2576d380",
   "metadata": {},
   "outputs": [],
   "source": []
  }
 ],
 "metadata": {
  "kernelspec": {
   "display_name": "Python",
   "language": "python",
   "name": "conda-env-python-py"
  },
  "language_info": {
   "codemirror_mode": {
    "name": "ipython",
    "version": 3
   },
   "file_extension": ".py",
   "mimetype": "text/x-python",
   "name": "python",
   "nbconvert_exporter": "python",
   "pygments_lexer": "ipython3",
   "version": "3.7.12"
  }
 },
 "nbformat": 4,
 "nbformat_minor": 5
}
